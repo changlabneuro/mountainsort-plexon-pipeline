{
 "cells": [
  {
   "cell_type": "code",
   "execution_count": null,
   "metadata": {},
   "outputs": [],
   "source": [
    "import pandas as pd\n",
    "import scipy.io"
   ]
  },
  {
   "cell_type": "code",
   "execution_count": null,
   "metadata": {},
   "outputs": [],
   "source": [
    "# Open spiketrain information for newly sorted\n",
    "f = scipy.io.loadmat('spiketimes.mat')"
   ]
  },
  {
   "cell_type": "code",
   "execution_count": null,
   "metadata": {},
   "outputs": [],
   "source": [
    "file_names = []\n",
    "spike_ct = []\n",
    "unit = []\n",
    "# For all recording files\n",
    "for i in range(len(f['all_spiketimes'][0])):\n",
    "    #  for all units in recording file\n",
    "    for j in range(len(f['all_spiketimes'][0, i][0][0][0])):\n",
    "        unit.append(j + 1)\n",
    "        file_names.append(f['all_spiketimes'][0, i][0][1][0])\n",
    "        # f['all_spiketimes'][0, i][0][0][0][j][0] is the spike train for a unit and getting length for spike count\n",
    "        spike_ct.append(len(f['all_spiketimes'][0, i][0][0][0][j][0]))"
   ]
  },
  {
   "cell_type": "code",
   "execution_count": null,
   "metadata": {},
   "outputs": [],
   "source": [
    "f = scipy.io.loadmat('../dictator_game_SUAdata_pre.mat')"
   ]
  },
  {
   "cell_type": "code",
   "execution_count": null,
   "metadata": {},
   "outputs": [],
   "source": [
    "file_names = []\n",
    "file_name = []\n",
    "region = []\n",
    "spk = []\n",
    "spike_ct = []\n",
    "unit_num = []\n",
    "unit = []\n",
    "for i in range(f['all_spike_time'].shape[1]):\n",
    "    unit_num.append(f['all_spike_time'][0, i]['data'][0, 0].shape[1])\n",
    "    file_name.append(f['all_spike_time'][0, i]['filename'][0, 0][0, 0][0].replace('.mda', ''))\n",
    "    for j in range(f['all_spike_time'][0, i]['data'][0, 0].shape[1]):\n",
    "        unit.append(j + 1)\n",
    "        file_names.append(f['all_spike_time'][0, i]['filename'][0, 0][0, 0][0].replace('.mda', ''))\n",
    "        region.append(f['all_spike_time'][0, i]['data'][0, 0][0, j]['name'][0][0][0][0][0])\n",
    "        spk.append(f['all_spike_time'][0, i]['data'][0, 0][0, j]['name'][0][0][0][1][0])\n",
    "        spike_ct.append(f['all_spike_time'][0, i]['data'][0, 0][0, j]['data'][0, 0][0].size)"
   ]
  }
 ],
 "metadata": {
  "kernelspec": {
   "display_name": "Python 3",
   "language": "python",
   "name": "python3"
  },
  "language_info": {
   "codemirror_mode": {
    "name": "ipython",
    "version": 3
   },
   "file_extension": ".py",
   "mimetype": "text/x-python",
   "name": "python",
   "nbconvert_exporter": "python",
   "pygments_lexer": "ipython3",
   "version": "3.8.3"
  }
 },
 "nbformat": 4,
 "nbformat_minor": 4
}
